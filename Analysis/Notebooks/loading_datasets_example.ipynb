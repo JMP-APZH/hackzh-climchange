{
 "cells": [
  {
   "cell_type": "code",
   "execution_count": 37,
   "metadata": {},
   "outputs": [
    {
     "name": "stdout",
     "output_type": "stream",
     "text": [
      "Defaulting to user installation because normal site-packages is not writeable\n",
      "Requirement already satisfied: pandas in /usr/lib/python3/dist-packages (1.3.5)\n",
      "Defaulting to user installation because normal site-packages is not writeable\n",
      "Requirement already satisfied: requests in /usr/lib/python3/dist-packages (2.25.1)\n",
      "Defaulting to user installation because normal site-packages is not writeable\n",
      "Requirement already satisfied: xarray in /home/ansam/.local/lib/python3.10/site-packages (2022.6.0)\n",
      "Requirement already satisfied: numpy>=1.19 in /home/ansam/.local/lib/python3.10/site-packages (from xarray) (1.23.3)\n",
      "Requirement already satisfied: packaging>=20.0 in /usr/lib/python3/dist-packages (from xarray) (21.3)\n",
      "Requirement already satisfied: pandas>=1.2 in /usr/lib/python3/dist-packages (from xarray) (1.3.5)\n",
      "Defaulting to user installation because normal site-packages is not writeable\n",
      "Requirement already satisfied: geopandas in /home/ansam/.local/lib/python3.10/site-packages (0.11.1)\n",
      "Requirement already satisfied: packaging in /usr/lib/python3/dist-packages (from geopandas) (21.3)\n",
      "Requirement already satisfied: pyproj>=2.6.1.post1 in /home/ansam/.local/lib/python3.10/site-packages (from geopandas) (3.3.1)\n",
      "Requirement already satisfied: fiona>=1.8 in /home/ansam/.local/lib/python3.10/site-packages (from geopandas) (1.8.21)\n",
      "Requirement already satisfied: pandas>=1.0.0 in /usr/lib/python3/dist-packages (from geopandas) (1.3.5)\n",
      "Requirement already satisfied: shapely<2,>=1.7 in /home/ansam/.local/lib/python3.10/site-packages (from geopandas) (1.8.4)\n",
      "Requirement already satisfied: munch in /home/ansam/.local/lib/python3.10/site-packages (from fiona>=1.8->geopandas) (2.5.0)\n",
      "Requirement already satisfied: cligj>=0.5 in /home/ansam/.local/lib/python3.10/site-packages (from fiona>=1.8->geopandas) (0.7.2)\n",
      "Requirement already satisfied: attrs>=17 in /usr/lib/python3/dist-packages (from fiona>=1.8->geopandas) (21.2.0)\n",
      "Requirement already satisfied: certifi in /home/ansam/.local/lib/python3.10/site-packages (from fiona>=1.8->geopandas) (2022.9.14)\n",
      "Requirement already satisfied: click>=4.0 in /usr/lib/python3/dist-packages (from fiona>=1.8->geopandas) (8.0.3)\n",
      "Requirement already satisfied: setuptools in /usr/lib/python3/dist-packages (from fiona>=1.8->geopandas) (59.6.0)\n",
      "Requirement already satisfied: six>=1.7 in /usr/lib/python3/dist-packages (from fiona>=1.8->geopandas) (1.16.0)\n",
      "Requirement already satisfied: click-plugins>=1.0 in /home/ansam/.local/lib/python3.10/site-packages (from fiona>=1.8->geopandas) (1.1.1)\n",
      "Defaulting to user installation because normal site-packages is not writeable\n",
      "Requirement already satisfied: pyaxis in /home/ansam/.local/lib/python3.10/site-packages (0.3.4)\n",
      "Requirement already satisfied: pyjstat in /home/ansam/.local/lib/python3.10/site-packages (from pyaxis) (2.3.0)\n",
      "Requirement already satisfied: numpy in /home/ansam/.local/lib/python3.10/site-packages (from pyaxis) (1.23.3)\n",
      "Requirement already satisfied: pandas in /usr/lib/python3/dist-packages (from pyaxis) (1.3.5)\n",
      "Requirement already satisfied: requests in /usr/lib/python3/dist-packages (from pyaxis) (2.25.1)\n",
      "Defaulting to user installation because normal site-packages is not writeable\n",
      "Requirement already satisfied: matplotlib in /usr/lib/python3/dist-packages (3.5.1)\n",
      "Defaulting to user installation because normal site-packages is not writeable\n",
      "Requirement already satisfied: owslib in /home/ansam/.local/lib/python3.10/site-packages (0.27.2)\n",
      "Requirement already satisfied: pyyaml in /usr/lib/python3/dist-packages (from owslib) (5.4.1)\n",
      "Requirement already satisfied: python-dateutil>=1.5 in /home/ansam/.local/lib/python3.10/site-packages (from owslib) (2.8.2)\n",
      "Requirement already satisfied: pytz in /usr/lib/python3/dist-packages (from owslib) (2022.1)\n",
      "Requirement already satisfied: requests>=1.0 in /usr/lib/python3/dist-packages (from owslib) (2.25.1)\n",
      "Requirement already satisfied: six>=1.5 in /usr/lib/python3/dist-packages (from python-dateutil>=1.5->owslib) (1.16.0)\n"
     ]
    }
   ],
   "source": [
    "!pip install pandas\n",
    "!pip install requests\n",
    "!pip install xarray\n",
    "!pip install geopandas\n",
    "!pip install pyaxis\n",
    "!pip install matplotlib\n",
    "!pip install owslib"
   ]
  },
  {
   "cell_type": "code",
   "execution_count": 38,
   "metadata": {},
   "outputs": [],
   "source": [
    "import pandas as pd\n",
    "import requests\n",
    "from matplotlib import pyplot\n",
    "import xarray as xr\n",
    "import geopandas as gpd\n",
    "import xarray as xr\n",
    "import pyaxis\n",
    "import owslib\n",
    "import tempfile"
   ]
  },
  {
   "cell_type": "markdown",
   "metadata": {},
   "source": [
    "## Introduction\n",
    "\n",
    "This notebook helps you go through the dataset listed under the **DATA** section of the challenge. Below you fill find some examples on how to load dataset depending on its format."
   ]
  },
  {
   "cell_type": "markdown",
   "metadata": {},
   "source": [
    "# Datasets"
   ]
  },
  {
   "cell_type": "markdown",
   "metadata": {},
   "source": [
    "## 1. TXT Example"
   ]
  },
  {
   "cell_type": "markdown",
   "metadata": {},
   "source": [
    "The first data from the list called [**Homogeneous data series since 1864, temp and precipitation, per month/year**](https://www.meteoswiss.admin.ch/home/climate/swiss-climate-in-detail/homogeneous-data-series-since-1864.html?region=Table) gives you an insight of precipitation or temperature through the years in different areas in Switzerland. \n",
    "\n",
    "You can access to a given dataset as such :"
   ]
  },
  {
   "cell_type": "code",
   "execution_count": 52,
   "metadata": {},
   "outputs": [],
   "source": [
    "url_prec_ge = \"https://www.meteoswiss.admin.ch/product/output/climate-data/homogenous-monthly-data-processing/data/homog_mo_GVE.txt\"\n",
    "url_prec_ge = \"https://www.meteoswiss.admin.ch/product/output/climate-data/homogenous-monthly-data-processing/data/homog_mo_RAG.txt\""
   ]
  },
  {
   "cell_type": "code",
   "execution_count": 53,
   "metadata": {},
   "outputs": [],
   "source": [
    "response = requests.get(url_prec_ge)"
   ]
  },
  {
   "cell_type": "code",
   "execution_count": 54,
   "metadata": {},
   "outputs": [],
   "source": [
    "with open(\"../data/GE.txt\", \"w\") as f:\n",
    "    f.write(response.text)"
   ]
  },
  {
   "cell_type": "code",
   "execution_count": 64,
   "metadata": {},
   "outputs": [],
   "source": [
    "df = pd.read_csv(\"../data/GE.txt\", encoding=\"ISO-8859-1\", header = 15, delim_whitespace=True)"
   ]
  },
  {
   "cell_type": "code",
   "execution_count": 65,
   "metadata": {},
   "outputs": [
    {
     "data": {
      "text/html": [
       "<div>\n",
       "<style scoped>\n",
       "    .dataframe tbody tr th:only-of-type {\n",
       "        vertical-align: middle;\n",
       "    }\n",
       "\n",
       "    .dataframe tbody tr th {\n",
       "        vertical-align: top;\n",
       "    }\n",
       "\n",
       "    .dataframe thead th {\n",
       "        text-align: right;\n",
       "    }\n",
       "</style>\n",
       "<table border=\"1\" class=\"dataframe\">\n",
       "  <thead>\n",
       "    <tr style=\"text-align: right;\">\n",
       "      <th></th>\n",
       "      <th>Year</th>\n",
       "      <th>Month</th>\n",
       "      <th>Temperature</th>\n",
       "    </tr>\n",
       "  </thead>\n",
       "  <tbody>\n",
       "    <tr>\n",
       "      <th>0</th>\n",
       "      <td>1864</td>\n",
       "      <td>1</td>\n",
       "      <td>-8.0</td>\n",
       "    </tr>\n",
       "    <tr>\n",
       "      <th>1</th>\n",
       "      <td>1864</td>\n",
       "      <td>2</td>\n",
       "      <td>-0.4</td>\n",
       "    </tr>\n",
       "    <tr>\n",
       "      <th>2</th>\n",
       "      <td>1864</td>\n",
       "      <td>3</td>\n",
       "      <td>5.8</td>\n",
       "    </tr>\n",
       "    <tr>\n",
       "      <th>3</th>\n",
       "      <td>1864</td>\n",
       "      <td>4</td>\n",
       "      <td>7.1</td>\n",
       "    </tr>\n",
       "    <tr>\n",
       "      <th>4</th>\n",
       "      <td>1864</td>\n",
       "      <td>5</td>\n",
       "      <td>12.3</td>\n",
       "    </tr>\n",
       "    <tr>\n",
       "      <th>...</th>\n",
       "      <td>...</td>\n",
       "      <td>...</td>\n",
       "      <td>...</td>\n",
       "    </tr>\n",
       "    <tr>\n",
       "      <th>1899</th>\n",
       "      <td>2022</td>\n",
       "      <td>4</td>\n",
       "      <td>10.0</td>\n",
       "    </tr>\n",
       "    <tr>\n",
       "      <th>1900</th>\n",
       "      <td>2022</td>\n",
       "      <td>5</td>\n",
       "      <td>16.3</td>\n",
       "    </tr>\n",
       "    <tr>\n",
       "      <th>1901</th>\n",
       "      <td>2022</td>\n",
       "      <td>6</td>\n",
       "      <td>19.9</td>\n",
       "    </tr>\n",
       "    <tr>\n",
       "      <th>1902</th>\n",
       "      <td>2022</td>\n",
       "      <td>7</td>\n",
       "      <td>21.1</td>\n",
       "    </tr>\n",
       "    <tr>\n",
       "      <th>1903</th>\n",
       "      <td>2022</td>\n",
       "      <td>8</td>\n",
       "      <td>20.6</td>\n",
       "    </tr>\n",
       "  </tbody>\n",
       "</table>\n",
       "<p>1904 rows × 3 columns</p>\n",
       "</div>"
      ],
      "text/plain": [
       "      Year  Month  Temperature\n",
       "0     1864      1         -8.0\n",
       "1     1864      2         -0.4\n",
       "2     1864      3          5.8\n",
       "3     1864      4          7.1\n",
       "4     1864      5         12.3\n",
       "...    ...    ...          ...\n",
       "1899  2022      4         10.0\n",
       "1900  2022      5         16.3\n",
       "1901  2022      6         19.9\n",
       "1902  2022      7         21.1\n",
       "1903  2022      8         20.6\n",
       "\n",
       "[1904 rows x 3 columns]"
      ]
     },
     "execution_count": 65,
     "metadata": {},
     "output_type": "execute_result"
    }
   ],
   "source": [
    "df"
   ]
  },
  {
   "cell_type": "code",
   "execution_count": 44,
   "id": "810d67d8",
   "metadata": {},
   "outputs": [],
   "source": [
    "#df.to_csv('../data/plotting_data/temp_pre1864.csv') "
   ]
  },
  {
   "cell_type": "code",
   "execution_count": 45,
   "metadata": {},
   "outputs": [
    {
     "name": "stdout",
     "output_type": "stream",
     "text": [
      "   Year  Month  Temperature  Precipitation\n",
      "0  1864      1         -4.2           13.6\n",
      "1  1864      2         -0.7           17.2\n",
      "2  1864      3          5.3           32.7\n",
      "3  1864      4          8.3           35.2\n",
      "4  1864      5         13.5           68.9\n"
     ]
    }
   ],
   "source": [
    "series = df\n",
    "print(series.head())"
   ]
  },
  {
   "cell_type": "code",
   "execution_count": 46,
   "metadata": {},
   "outputs": [],
   "source": [
    "series['DATE'] = pd.to_datetime(series[['Year', 'Month']].assign(DAY=1))"
   ]
  },
  {
   "cell_type": "code",
   "execution_count": 47,
   "metadata": {},
   "outputs": [
    {
     "data": {
      "text/html": [
       "<div>\n",
       "<style scoped>\n",
       "    .dataframe tbody tr th:only-of-type {\n",
       "        vertical-align: middle;\n",
       "    }\n",
       "\n",
       "    .dataframe tbody tr th {\n",
       "        vertical-align: top;\n",
       "    }\n",
       "\n",
       "    .dataframe thead th {\n",
       "        text-align: right;\n",
       "    }\n",
       "</style>\n",
       "<table border=\"1\" class=\"dataframe\">\n",
       "  <thead>\n",
       "    <tr style=\"text-align: right;\">\n",
       "      <th></th>\n",
       "      <th>Year</th>\n",
       "      <th>Month</th>\n",
       "      <th>Temperature</th>\n",
       "      <th>Precipitation</th>\n",
       "      <th>DATE</th>\n",
       "    </tr>\n",
       "  </thead>\n",
       "  <tbody>\n",
       "    <tr>\n",
       "      <th>0</th>\n",
       "      <td>1864</td>\n",
       "      <td>1</td>\n",
       "      <td>-4.2</td>\n",
       "      <td>13.6</td>\n",
       "      <td>1864-01-01</td>\n",
       "    </tr>\n",
       "    <tr>\n",
       "      <th>1</th>\n",
       "      <td>1864</td>\n",
       "      <td>2</td>\n",
       "      <td>-0.7</td>\n",
       "      <td>17.2</td>\n",
       "      <td>1864-02-01</td>\n",
       "    </tr>\n",
       "    <tr>\n",
       "      <th>2</th>\n",
       "      <td>1864</td>\n",
       "      <td>3</td>\n",
       "      <td>5.3</td>\n",
       "      <td>32.7</td>\n",
       "      <td>1864-03-01</td>\n",
       "    </tr>\n",
       "    <tr>\n",
       "      <th>3</th>\n",
       "      <td>1864</td>\n",
       "      <td>4</td>\n",
       "      <td>8.3</td>\n",
       "      <td>35.2</td>\n",
       "      <td>1864-04-01</td>\n",
       "    </tr>\n",
       "    <tr>\n",
       "      <th>4</th>\n",
       "      <td>1864</td>\n",
       "      <td>5</td>\n",
       "      <td>13.5</td>\n",
       "      <td>68.9</td>\n",
       "      <td>1864-05-01</td>\n",
       "    </tr>\n",
       "  </tbody>\n",
       "</table>\n",
       "</div>"
      ],
      "text/plain": [
       "   Year  Month  Temperature  Precipitation       DATE\n",
       "0  1864      1         -4.2           13.6 1864-01-01\n",
       "1  1864      2         -0.7           17.2 1864-02-01\n",
       "2  1864      3          5.3           32.7 1864-03-01\n",
       "3  1864      4          8.3           35.2 1864-04-01\n",
       "4  1864      5         13.5           68.9 1864-05-01"
      ]
     },
     "execution_count": 47,
     "metadata": {},
     "output_type": "execute_result"
    }
   ],
   "source": [
    "series.head()"
   ]
  },
  {
   "cell_type": "code",
   "execution_count": 49,
   "id": "2c6faeb2",
   "metadata": {},
   "outputs": [
    {
     "data": {
      "text/html": [
       "<div>\n",
       "<style scoped>\n",
       "    .dataframe tbody tr th:only-of-type {\n",
       "        vertical-align: middle;\n",
       "    }\n",
       "\n",
       "    .dataframe tbody tr th {\n",
       "        vertical-align: top;\n",
       "    }\n",
       "\n",
       "    .dataframe thead th {\n",
       "        text-align: right;\n",
       "    }\n",
       "</style>\n",
       "<table border=\"1\" class=\"dataframe\">\n",
       "  <thead>\n",
       "    <tr style=\"text-align: right;\">\n",
       "      <th></th>\n",
       "      <th>Year</th>\n",
       "      <th>Month</th>\n",
       "      <th>Temperature</th>\n",
       "      <th>Precipitation</th>\n",
       "      <th>DATE</th>\n",
       "    </tr>\n",
       "  </thead>\n",
       "  <tbody>\n",
       "    <tr>\n",
       "      <th>0</th>\n",
       "      <td>1864</td>\n",
       "      <td>1</td>\n",
       "      <td>-4.2</td>\n",
       "      <td>13.6</td>\n",
       "      <td>1864-01-01</td>\n",
       "    </tr>\n",
       "    <tr>\n",
       "      <th>1</th>\n",
       "      <td>1864</td>\n",
       "      <td>2</td>\n",
       "      <td>-0.7</td>\n",
       "      <td>17.2</td>\n",
       "      <td>1864-02-01</td>\n",
       "    </tr>\n",
       "    <tr>\n",
       "      <th>2</th>\n",
       "      <td>1864</td>\n",
       "      <td>3</td>\n",
       "      <td>5.3</td>\n",
       "      <td>32.7</td>\n",
       "      <td>1864-03-01</td>\n",
       "    </tr>\n",
       "    <tr>\n",
       "      <th>3</th>\n",
       "      <td>1864</td>\n",
       "      <td>4</td>\n",
       "      <td>8.3</td>\n",
       "      <td>35.2</td>\n",
       "      <td>1864-04-01</td>\n",
       "    </tr>\n",
       "    <tr>\n",
       "      <th>4</th>\n",
       "      <td>1864</td>\n",
       "      <td>5</td>\n",
       "      <td>13.5</td>\n",
       "      <td>68.9</td>\n",
       "      <td>1864-05-01</td>\n",
       "    </tr>\n",
       "    <tr>\n",
       "      <th>...</th>\n",
       "      <td>...</td>\n",
       "      <td>...</td>\n",
       "      <td>...</td>\n",
       "      <td>...</td>\n",
       "      <td>...</td>\n",
       "    </tr>\n",
       "    <tr>\n",
       "      <th>1891</th>\n",
       "      <td>2021</td>\n",
       "      <td>8</td>\n",
       "      <td>18.8</td>\n",
       "      <td>54.1</td>\n",
       "      <td>2021-08-01</td>\n",
       "    </tr>\n",
       "    <tr>\n",
       "      <th>1892</th>\n",
       "      <td>2021</td>\n",
       "      <td>9</td>\n",
       "      <td>17.2</td>\n",
       "      <td>36.7</td>\n",
       "      <td>2021-09-01</td>\n",
       "    </tr>\n",
       "    <tr>\n",
       "      <th>1893</th>\n",
       "      <td>2021</td>\n",
       "      <td>10</td>\n",
       "      <td>10.4</td>\n",
       "      <td>80.6</td>\n",
       "      <td>2021-10-01</td>\n",
       "    </tr>\n",
       "    <tr>\n",
       "      <th>1894</th>\n",
       "      <td>2021</td>\n",
       "      <td>11</td>\n",
       "      <td>5.2</td>\n",
       "      <td>19.4</td>\n",
       "      <td>2021-11-01</td>\n",
       "    </tr>\n",
       "    <tr>\n",
       "      <th>1895</th>\n",
       "      <td>2021</td>\n",
       "      <td>12</td>\n",
       "      <td>3.0</td>\n",
       "      <td>129.2</td>\n",
       "      <td>2021-12-01</td>\n",
       "    </tr>\n",
       "  </tbody>\n",
       "</table>\n",
       "<p>1896 rows × 5 columns</p>\n",
       "</div>"
      ],
      "text/plain": [
       "      Year  Month  Temperature  Precipitation       DATE\n",
       "0     1864      1         -4.2           13.6 1864-01-01\n",
       "1     1864      2         -0.7           17.2 1864-02-01\n",
       "2     1864      3          5.3           32.7 1864-03-01\n",
       "3     1864      4          8.3           35.2 1864-04-01\n",
       "4     1864      5         13.5           68.9 1864-05-01\n",
       "...    ...    ...          ...            ...        ...\n",
       "1891  2021      8         18.8           54.1 2021-08-01\n",
       "1892  2021      9         17.2           36.7 2021-09-01\n",
       "1893  2021     10         10.4           80.6 2021-10-01\n",
       "1894  2021     11          5.2           19.4 2021-11-01\n",
       "1895  2021     12          3.0          129.2 2021-12-01\n",
       "\n",
       "[1896 rows x 5 columns]"
      ]
     },
     "execution_count": 49,
     "metadata": {},
     "output_type": "execute_result"
    }
   ],
   "source": [
    "series[:-8]"
   ]
  },
  {
   "cell_type": "code",
   "execution_count": 51,
   "id": "95617d0f",
   "metadata": {},
   "outputs": [
    {
     "data": {
      "text/html": [
       "<div>\n",
       "<style scoped>\n",
       "    .dataframe tbody tr th:only-of-type {\n",
       "        vertical-align: middle;\n",
       "    }\n",
       "\n",
       "    .dataframe tbody tr th {\n",
       "        vertical-align: top;\n",
       "    }\n",
       "\n",
       "    .dataframe thead th {\n",
       "        text-align: right;\n",
       "    }\n",
       "</style>\n",
       "<table border=\"1\" class=\"dataframe\">\n",
       "  <thead>\n",
       "    <tr style=\"text-align: right;\">\n",
       "      <th></th>\n",
       "      <th>Year</th>\n",
       "      <th>Month</th>\n",
       "      <th>Temperature</th>\n",
       "      <th>Precipitation</th>\n",
       "      <th>DATE</th>\n",
       "    </tr>\n",
       "  </thead>\n",
       "  <tbody>\n",
       "    <tr>\n",
       "      <th>0</th>\n",
       "      <td>1864</td>\n",
       "      <td>1</td>\n",
       "      <td>-4.2</td>\n",
       "      <td>13.6</td>\n",
       "      <td>1864-01-01</td>\n",
       "    </tr>\n",
       "    <tr>\n",
       "      <th>1</th>\n",
       "      <td>1864</td>\n",
       "      <td>2</td>\n",
       "      <td>-0.7</td>\n",
       "      <td>17.2</td>\n",
       "      <td>1864-02-01</td>\n",
       "    </tr>\n",
       "    <tr>\n",
       "      <th>2</th>\n",
       "      <td>1864</td>\n",
       "      <td>3</td>\n",
       "      <td>5.3</td>\n",
       "      <td>32.7</td>\n",
       "      <td>1864-03-01</td>\n",
       "    </tr>\n",
       "    <tr>\n",
       "      <th>3</th>\n",
       "      <td>1864</td>\n",
       "      <td>4</td>\n",
       "      <td>8.3</td>\n",
       "      <td>35.2</td>\n",
       "      <td>1864-04-01</td>\n",
       "    </tr>\n",
       "    <tr>\n",
       "      <th>4</th>\n",
       "      <td>1864</td>\n",
       "      <td>5</td>\n",
       "      <td>13.5</td>\n",
       "      <td>68.9</td>\n",
       "      <td>1864-05-01</td>\n",
       "    </tr>\n",
       "    <tr>\n",
       "      <th>...</th>\n",
       "      <td>...</td>\n",
       "      <td>...</td>\n",
       "      <td>...</td>\n",
       "      <td>...</td>\n",
       "      <td>...</td>\n",
       "    </tr>\n",
       "    <tr>\n",
       "      <th>1899</th>\n",
       "      <td>2022</td>\n",
       "      <td>4</td>\n",
       "      <td>10.3</td>\n",
       "      <td>54.0</td>\n",
       "      <td>2022-04-01</td>\n",
       "    </tr>\n",
       "    <tr>\n",
       "      <th>1900</th>\n",
       "      <td>2022</td>\n",
       "      <td>5</td>\n",
       "      <td>17.6</td>\n",
       "      <td>12.0</td>\n",
       "      <td>2022-05-01</td>\n",
       "    </tr>\n",
       "    <tr>\n",
       "      <th>1901</th>\n",
       "      <td>2022</td>\n",
       "      <td>6</td>\n",
       "      <td>21.2</td>\n",
       "      <td>63.9</td>\n",
       "      <td>2022-06-01</td>\n",
       "    </tr>\n",
       "    <tr>\n",
       "      <th>1902</th>\n",
       "      <td>2022</td>\n",
       "      <td>7</td>\n",
       "      <td>23.6</td>\n",
       "      <td>5.0</td>\n",
       "      <td>2022-07-01</td>\n",
       "    </tr>\n",
       "    <tr>\n",
       "      <th>1903</th>\n",
       "      <td>2022</td>\n",
       "      <td>8</td>\n",
       "      <td>22.3</td>\n",
       "      <td>48.0</td>\n",
       "      <td>2022-08-01</td>\n",
       "    </tr>\n",
       "  </tbody>\n",
       "</table>\n",
       "<p>1904 rows × 5 columns</p>\n",
       "</div>"
      ],
      "text/plain": [
       "      Year  Month  Temperature  Precipitation       DATE\n",
       "0     1864      1         -4.2           13.6 1864-01-01\n",
       "1     1864      2         -0.7           17.2 1864-02-01\n",
       "2     1864      3          5.3           32.7 1864-03-01\n",
       "3     1864      4          8.3           35.2 1864-04-01\n",
       "4     1864      5         13.5           68.9 1864-05-01\n",
       "...    ...    ...          ...            ...        ...\n",
       "1899  2022      4         10.3           54.0 2022-04-01\n",
       "1900  2022      5         17.6           12.0 2022-05-01\n",
       "1901  2022      6         21.2           63.9 2022-06-01\n",
       "1902  2022      7         23.6            5.0 2022-07-01\n",
       "1903  2022      8         22.3           48.0 2022-08-01\n",
       "\n",
       "[1904 rows x 5 columns]"
      ]
     },
     "execution_count": 51,
     "metadata": {},
     "output_type": "execute_result"
    }
   ],
   "source": [
    "series"
   ]
  },
  {
   "cell_type": "code",
   "execution_count": 48,
   "id": "26c18ee5",
   "metadata": {},
   "outputs": [
    {
     "data": {
      "text/html": [
       "<div>\n",
       "<style scoped>\n",
       "    .dataframe tbody tr th:only-of-type {\n",
       "        vertical-align: middle;\n",
       "    }\n",
       "\n",
       "    .dataframe tbody tr th {\n",
       "        vertical-align: top;\n",
       "    }\n",
       "\n",
       "    .dataframe thead th {\n",
       "        text-align: right;\n",
       "    }\n",
       "</style>\n",
       "<table border=\"1\" class=\"dataframe\">\n",
       "  <thead>\n",
       "    <tr style=\"text-align: right;\">\n",
       "      <th></th>\n",
       "      <th>Year</th>\n",
       "      <th>Temperature</th>\n",
       "    </tr>\n",
       "  </thead>\n",
       "  <tbody>\n",
       "    <tr>\n",
       "      <th>0</th>\n",
       "      <td>1864</td>\n",
       "      <td>8.191667</td>\n",
       "    </tr>\n",
       "    <tr>\n",
       "      <th>1</th>\n",
       "      <td>1865</td>\n",
       "      <td>9.725000</td>\n",
       "    </tr>\n",
       "    <tr>\n",
       "      <th>2</th>\n",
       "      <td>1866</td>\n",
       "      <td>9.816667</td>\n",
       "    </tr>\n",
       "    <tr>\n",
       "      <th>3</th>\n",
       "      <td>1867</td>\n",
       "      <td>9.216667</td>\n",
       "    </tr>\n",
       "    <tr>\n",
       "      <th>4</th>\n",
       "      <td>1868</td>\n",
       "      <td>10.083333</td>\n",
       "    </tr>\n",
       "    <tr>\n",
       "      <th>...</th>\n",
       "      <td>...</td>\n",
       "      <td>...</td>\n",
       "    </tr>\n",
       "    <tr>\n",
       "      <th>153</th>\n",
       "      <td>2017</td>\n",
       "      <td>11.283333</td>\n",
       "    </tr>\n",
       "    <tr>\n",
       "      <th>154</th>\n",
       "      <td>2018</td>\n",
       "      <td>12.250000</td>\n",
       "    </tr>\n",
       "    <tr>\n",
       "      <th>155</th>\n",
       "      <td>2019</td>\n",
       "      <td>11.775000</td>\n",
       "    </tr>\n",
       "    <tr>\n",
       "      <th>156</th>\n",
       "      <td>2020</td>\n",
       "      <td>12.150000</td>\n",
       "    </tr>\n",
       "    <tr>\n",
       "      <th>157</th>\n",
       "      <td>2021</td>\n",
       "      <td>10.858333</td>\n",
       "    </tr>\n",
       "  </tbody>\n",
       "</table>\n",
       "<p>158 rows × 2 columns</p>\n",
       "</div>"
      ],
      "text/plain": [
       "     Year  Temperature\n",
       "0    1864     8.191667\n",
       "1    1865     9.725000\n",
       "2    1866     9.816667\n",
       "3    1867     9.216667\n",
       "4    1868    10.083333\n",
       "..    ...          ...\n",
       "153  2017    11.283333\n",
       "154  2018    12.250000\n",
       "155  2019    11.775000\n",
       "156  2020    12.150000\n",
       "157  2021    10.858333\n",
       "\n",
       "[158 rows x 2 columns]"
      ]
     },
     "execution_count": 48,
     "metadata": {},
     "output_type": "execute_result"
    }
   ],
   "source": [
    "series[:-8].groupby('Year', as_index=False).agg({\"Temperature\": \"mean\"})"
   ]
  },
  {
   "cell_type": "code",
   "execution_count": 11,
   "metadata": {},
   "outputs": [
    {
     "data": {
      "text/plain": [
       "<AxesSubplot:xlabel='Year'>"
      ]
     },
     "execution_count": 11,
     "metadata": {},
     "output_type": "execute_result"
    },
    {
     "data": {
      "image/png": "[encoded data removed]",
      "text/plain": [
       "<Figure size 432x288 with 1 Axes>"
      ]
     },
     "metadata": {
      "needs_background": "light"
     },
     "output_type": "display_data"
    }
   ],
   "source": [
    "# Average temp through the years in Geneva\n",
    "series[:-8].groupby('Year', as_index=False).agg({\"Temperature\": \"mean\"}).plot(x='Year', y='Temperature')"
   ]
  },
  {
   "cell_type": "code",
   "execution_count": 12,
   "metadata": {},
   "outputs": [
    {
     "data": {
      "text/plain": [
       "<AxesSubplot:xlabel='Year'>"
      ]
     },
     "execution_count": 12,
     "metadata": {},
     "output_type": "execute_result"
    },
    {
     "data": {
      "image/png": "[encoded data removed]",
      "text/plain": [
       "<Figure size 432x288 with 1 Axes>"
      ]
     },
     "metadata": {
      "needs_background": "light"
     },
     "output_type": "display_data"
    }
   ],
   "source": [
    "# Temp though the years for July in Geneva\n",
    "series.loc[series[\"Month\"]==7].plot(x='Year', y='Temperature')"
   ]
  },
  {
   "cell_type": "code",
   "execution_count": 13,
   "metadata": {},
   "outputs": [
    {
     "data": {
      "text/plain": [
       "<AxesSubplot:xlabel='Year'>"
      ]
     },
     "execution_count": 13,
     "metadata": {},
     "output_type": "execute_result"
    },
    {
     "data": {
      "image/png": "[encoded data removed]",
      "text/plain": [
       "<Figure size 432x288 with 1 Axes>"
      ]
     },
     "metadata": {
      "needs_background": "light"
     },
     "output_type": "display_data"
    }
   ],
   "source": [
    "# Temp though the years for January in Geneva\n",
    "series.loc[series[\"Month\"]==1].plot(x='Year', y='Temperature')"
   ]
  },
  {
   "cell_type": "code",
   "execution_count": 14,
   "metadata": {},
   "outputs": [
    {
     "data": {
      "text/plain": [
       "<AxesSubplot:xlabel='Year'>"
      ]
     },
     "execution_count": 14,
     "metadata": {},
     "output_type": "execute_result"
    },
    {
     "data": {
      "image/png": "[encoded data removed]",
      "text/plain": [
       "<Figure size 432x288 with 1 Axes>"
      ]
     },
     "metadata": {
      "needs_background": "light"
     },
     "output_type": "display_data"
    }
   ],
   "source": [
    "series[:-8].groupby('Year', as_index=False).agg({\"Precipitation\": \"mean\"}).plot(x='Year', y='Precipitation')"
   ]
  },
  {
   "cell_type": "markdown",
   "metadata": {},
   "source": [
    "## 2. CSV Example"
   ]
  },
  {
   "cell_type": "markdown",
   "metadata": {},
   "source": [
    "In the link called [Klimamessnetz Tageswerte seit Messbeginn](https://opendata.swiss/de/dataset/klimamessnetz-tageswerte), you can download a zip file containing multiple csv. \n",
    "\n",
    "Check text file in [this](https://data.geo.admin.ch/ch.meteoschweiz.klima/nbcn-tageswerte/data.zip) zip to get an explenation of the data."
   ]
  },
  {
   "cell_type": "markdown",
   "metadata": {},
   "source": [
    "### List of urls"
   ]
  },
  {
   "cell_type": "code",
   "execution_count": 15,
   "metadata": {},
   "outputs": [],
   "source": [
    "url_list = \"https://data.geo.admin.ch/ch.meteoschweiz.klima/nbcn-tageswerte/liste-download-nbcn-d.csv\""
   ]
  },
  {
   "cell_type": "code",
   "execution_count": 16,
   "metadata": {},
   "outputs": [],
   "source": [
    "df_urls = pd.read_csv(url_list, encoding=\"ISO-8859-1\", sep = \";\")"
   ]
  },
  {
   "cell_type": "code",
   "execution_count": 17,
   "metadata": {},
   "outputs": [
    {
     "name": "stdout",
     "output_type": "stream",
     "text": [
      "https://data.geo.admin.ch/ch.meteoschweiz.klima/nbcn-tageswerte/nbcn-daily_ALT_current.csv\n",
      "https://data.geo.admin.ch/ch.meteoschweiz.klima/nbcn-tageswerte/nbcn-daily_ANT_current.csv\n",
      "https://data.geo.admin.ch/ch.meteoschweiz.klima/nbcn-tageswerte/nbcn-daily_BAS_current.csv\n",
      "https://data.geo.admin.ch/ch.meteoschweiz.klima/nbcn-tageswerte/nbcn-daily_BER_current.csv\n",
      "https://data.geo.admin.ch/ch.meteoschweiz.klima/nbcn-tageswerte/nbcn-daily_CDF_current.csv\n",
      "https://data.geo.admin.ch/ch.meteoschweiz.klima/nbcn-tageswerte/nbcn-daily_CHD_current.csv\n",
      "https://data.geo.admin.ch/ch.meteoschweiz.klima/nbcn-tageswerte/nbcn-daily_CHM_current.csv\n",
      "https://data.geo.admin.ch/ch.meteoschweiz.klima/nbcn-tageswerte/nbcn-daily_DAV_current.csv\n",
      "https://data.geo.admin.ch/ch.meteoschweiz.klima/nbcn-tageswerte/nbcn-daily_ELM_current.csv\n",
      "https://data.geo.admin.ch/ch.meteoschweiz.klima/nbcn-tageswerte/nbcn-daily_ENG_current.csv\n",
      "https://data.geo.admin.ch/ch.meteoschweiz.klima/nbcn-tageswerte/nbcn-daily_GRC_current.csv\n",
      "https://data.geo.admin.ch/ch.meteoschweiz.klima/nbcn-tageswerte/nbcn-daily_GRH_current.csv\n",
      "https://data.geo.admin.ch/ch.meteoschweiz.klima/nbcn-tageswerte/nbcn-daily_GSB_current.csv\n",
      "https://data.geo.admin.ch/ch.meteoschweiz.klima/nbcn-tageswerte/nbcn-daily_GVE_current.csv\n",
      "https://data.geo.admin.ch/ch.meteoschweiz.klima/nbcn-tageswerte/nbcn-daily_JUN_current.csv\n",
      "https://data.geo.admin.ch/ch.meteoschweiz.klima/nbcn-tageswerte/nbcn-daily_LUG_current.csv\n",
      "https://data.geo.admin.ch/ch.meteoschweiz.klima/nbcn-tageswerte/nbcn-daily_LUZ_current.csv\n",
      "https://data.geo.admin.ch/ch.meteoschweiz.klima/nbcn-tageswerte/nbcn-daily_MER_current.csv\n",
      "https://data.geo.admin.ch/ch.meteoschweiz.klima/nbcn-tageswerte/nbcn-daily_NEU_current.csv\n",
      "https://data.geo.admin.ch/ch.meteoschweiz.klima/nbcn-tageswerte/nbcn-daily_OTL_current.csv\n",
      "https://data.geo.admin.ch/ch.meteoschweiz.klima/nbcn-tageswerte/nbcn-daily_PAY_current.csv\n",
      "https://data.geo.admin.ch/ch.meteoschweiz.klima/nbcn-tageswerte/nbcn-daily_RAG_current.csv\n",
      "https://data.geo.admin.ch/ch.meteoschweiz.klima/nbcn-tageswerte/nbcn-daily_SAE_current.csv\n",
      "https://data.geo.admin.ch/ch.meteoschweiz.klima/nbcn-tageswerte/nbcn-daily_SAM_current.csv\n",
      "https://data.geo.admin.ch/ch.meteoschweiz.klima/nbcn-tageswerte/nbcn-daily_SBE_current.csv\n",
      "https://data.geo.admin.ch/ch.meteoschweiz.klima/nbcn-tageswerte/nbcn-daily_SIA_current.csv\n",
      "https://data.geo.admin.ch/ch.meteoschweiz.klima/nbcn-tageswerte/nbcn-daily_SIO_current.csv\n",
      "https://data.geo.admin.ch/ch.meteoschweiz.klima/nbcn-tageswerte/nbcn-daily_SMA_current.csv\n",
      "https://data.geo.admin.ch/ch.meteoschweiz.klima/nbcn-tageswerte/nbcn-daily_STG_current.csv\n",
      "nan\n"
     ]
    }
   ],
   "source": [
    "for index, row in df_urls[:30].iterrows():\n",
    "    print(row[\"URL Current year\"]) # Also URL Previous years (verified data)"
   ]
  },
  {
   "cell_type": "code",
   "execution_count": 67,
   "id": "0ed70a09",
   "metadata": {},
   "outputs": [
    {
     "data": {
      "text/html": [
       "<div>\n",
       "<style scoped>\n",
       "    .dataframe tbody tr th:only-of-type {\n",
       "        vertical-align: middle;\n",
       "    }\n",
       "\n",
       "    .dataframe tbody tr th {\n",
       "        vertical-align: top;\n",
       "    }\n",
       "\n",
       "    .dataframe thead th {\n",
       "        text-align: right;\n",
       "    }\n",
       "</style>\n",
       "<table border=\"1\" class=\"dataframe\">\n",
       "  <thead>\n",
       "    <tr style=\"text-align: right;\">\n",
       "      <th></th>\n",
       "      <th>station/location</th>\n",
       "      <th>date</th>\n",
       "      <th>gre000d0</th>\n",
       "      <th>hto000d0</th>\n",
       "      <th>nto000d0</th>\n",
       "      <th>prestad0</th>\n",
       "      <th>rre150d0</th>\n",
       "      <th>sre000d0</th>\n",
       "      <th>tre200d0</th>\n",
       "      <th>tre200dn</th>\n",
       "      <th>tre200dx</th>\n",
       "      <th>ure200d0</th>\n",
       "    </tr>\n",
       "  </thead>\n",
       "  <tbody>\n",
       "    <tr>\n",
       "      <th>0</th>\n",
       "      <td>ALT</td>\n",
       "      <td>20220101</td>\n",
       "      <td>52</td>\n",
       "      <td>0</td>\n",
       "      <td>25</td>\n",
       "      <td>975.9</td>\n",
       "      <td>0.0</td>\n",
       "      <td>237</td>\n",
       "      <td>2.1</td>\n",
       "      <td>-1.3</td>\n",
       "      <td>8.8</td>\n",
       "      <td>89.0</td>\n",
       "    </tr>\n",
       "    <tr>\n",
       "      <th>1</th>\n",
       "      <td>ALT</td>\n",
       "      <td>20220102</td>\n",
       "      <td>53</td>\n",
       "      <td>0</td>\n",
       "      <td>42</td>\n",
       "      <td>971.5</td>\n",
       "      <td>0.0</td>\n",
       "      <td>184</td>\n",
       "      <td>4.0</td>\n",
       "      <td>-1.4</td>\n",
       "      <td>8.8</td>\n",
       "      <td>85.2</td>\n",
       "    </tr>\n",
       "    <tr>\n",
       "      <th>2</th>\n",
       "      <td>ALT</td>\n",
       "      <td>20220103</td>\n",
       "      <td>36</td>\n",
       "      <td>0</td>\n",
       "      <td>100</td>\n",
       "      <td>967.4</td>\n",
       "      <td>0.9</td>\n",
       "      <td>6</td>\n",
       "      <td>7.0</td>\n",
       "      <td>3.0</td>\n",
       "      <td>10.7</td>\n",
       "      <td>80.0</td>\n",
       "    </tr>\n",
       "    <tr>\n",
       "      <th>3</th>\n",
       "      <td>ALT</td>\n",
       "      <td>20220104</td>\n",
       "      <td>49</td>\n",
       "      <td>0</td>\n",
       "      <td>71</td>\n",
       "      <td>951.8</td>\n",
       "      <td>14.0</td>\n",
       "      <td>74</td>\n",
       "      <td>11.3</td>\n",
       "      <td>6.0</td>\n",
       "      <td>17.1</td>\n",
       "      <td>64.1</td>\n",
       "    </tr>\n",
       "    <tr>\n",
       "      <th>4</th>\n",
       "      <td>ALT</td>\n",
       "      <td>20220105</td>\n",
       "      <td>27</td>\n",
       "      <td>0</td>\n",
       "      <td>79</td>\n",
       "      <td>959.5</td>\n",
       "      <td>2.1</td>\n",
       "      <td>0</td>\n",
       "      <td>2.2</td>\n",
       "      <td>-1.5</td>\n",
       "      <td>5.8</td>\n",
       "      <td>75.9</td>\n",
       "    </tr>\n",
       "  </tbody>\n",
       "</table>\n",
       "</div>"
      ],
      "text/plain": [
       "  station/location      date  gre000d0  hto000d0  nto000d0  prestad0  \\\n",
       "0              ALT  20220101        52         0        25     975.9   \n",
       "1              ALT  20220102        53         0        42     971.5   \n",
       "2              ALT  20220103        36         0       100     967.4   \n",
       "3              ALT  20220104        49         0        71     951.8   \n",
       "4              ALT  20220105        27         0        79     959.5   \n",
       "\n",
       "   rre150d0  sre000d0  tre200d0  tre200dn  tre200dx  ure200d0  \n",
       "0       0.0       237       2.1      -1.3       8.8      89.0  \n",
       "1       0.0       184       4.0      -1.4       8.8      85.2  \n",
       "2       0.9         6       7.0       3.0      10.7      80.0  \n",
       "3      14.0        74      11.3       6.0      17.1      64.1  \n",
       "4       2.1         0       2.2      -1.5       5.8      75.9  "
      ]
     },
     "execution_count": 67,
     "metadata": {},
     "output_type": "execute_result"
    }
   ],
   "source": [
    "df_unknown = pd.read_csv('https://data.geo.admin.ch/ch.meteoschweiz.klima/nbcn-tageswerte/nbcn-daily_ALT_current.csv', sep=';')\n",
    "df_unknown.head()"
   ]
  },
  {
   "cell_type": "markdown",
   "metadata": {},
   "source": [
    "# 3 .NC Example"
   ]
  },
  {
   "cell_type": "markdown",
   "metadata": {},
   "source": [
    "Data taken from this [url](https://opendata.swiss/de/dataset/klimamessnetz-tageswerte). Access to the text file within the zip folder to get the different urls to download a specific dataset.\n",
    "\n",
    "In this example, we used this [link](https://data.geo.admin.ch/ch.meteoschweiz.klimanormwerte-niederschlag_1961_1990/netcdf/2056/RnormY6190_ch01r.swiss.lv95_000001010000_000001010000.nc)"
   ]
  },
  {
   "cell_type": "code",
   "execution_count": 18,
   "metadata": {},
   "outputs": [],
   "source": [
    "ds = xr.open_dataset('../data/RnormY6190_ch01r.swiss.lv95_000001010000_000001010000.nc', decode_times=False)\n",
    "df = ds.to_dataframe()"
   ]
  },
  {
   "cell_type": "code",
   "execution_count": 19,
   "metadata": {},
   "outputs": [],
   "source": [
    "df.to_csv(\"../data/nc.csv\")"
   ]
  },
  {
   "cell_type": "code",
   "execution_count": 20,
   "metadata": {},
   "outputs": [
    {
     "data": {
      "text/html": [
       "<div>\n",
       "<style scoped>\n",
       "    .dataframe tbody tr th:only-of-type {\n",
       "        vertical-align: middle;\n",
       "    }\n",
       "\n",
       "    .dataframe tbody tr th {\n",
       "        vertical-align: top;\n",
       "    }\n",
       "\n",
       "    .dataframe thead th {\n",
       "        text-align: right;\n",
       "    }\n",
       "</style>\n",
       "<table border=\"1\" class=\"dataframe\">\n",
       "  <thead>\n",
       "    <tr style=\"text-align: right;\">\n",
       "      <th></th>\n",
       "      <th></th>\n",
       "      <th></th>\n",
       "      <th></th>\n",
       "      <th>swiss_lv95_coordinates</th>\n",
       "      <th>climatology_bounds</th>\n",
       "      <th>RnormY6190</th>\n",
       "      <th>lon</th>\n",
       "      <th>lat</th>\n",
       "    </tr>\n",
       "    <tr>\n",
       "      <th>ncb</th>\n",
       "      <th>time</th>\n",
       "      <th>E</th>\n",
       "      <th>N</th>\n",
       "      <th></th>\n",
       "      <th></th>\n",
       "      <th></th>\n",
       "      <th></th>\n",
       "      <th></th>\n",
       "    </tr>\n",
       "  </thead>\n",
       "  <tbody>\n",
       "    <tr>\n",
       "      <th rowspan=\"5\" valign=\"top\">1.0</th>\n",
       "      <th rowspan=\"5\" valign=\"top\">0.0</th>\n",
       "      <th rowspan=\"5\" valign=\"top\">2474500.0</th>\n",
       "      <th>1064500.0</th>\n",
       "      <td>1.0</td>\n",
       "      <td>0.0</td>\n",
       "      <td>NaN</td>\n",
       "      <td>5.826852</td>\n",
       "      <td>45.720608</td>\n",
       "    </tr>\n",
       "    <tr>\n",
       "      <th>1065500.0</th>\n",
       "      <td>1.0</td>\n",
       "      <td>0.0</td>\n",
       "      <td>NaN</td>\n",
       "      <td>5.826589</td>\n",
       "      <td>45.729603</td>\n",
       "    </tr>\n",
       "    <tr>\n",
       "      <th>1066500.0</th>\n",
       "      <td>1.0</td>\n",
       "      <td>0.0</td>\n",
       "      <td>NaN</td>\n",
       "      <td>5.826325</td>\n",
       "      <td>45.738594</td>\n",
       "    </tr>\n",
       "    <tr>\n",
       "      <th>1067500.0</th>\n",
       "      <td>1.0</td>\n",
       "      <td>0.0</td>\n",
       "      <td>NaN</td>\n",
       "      <td>5.826061</td>\n",
       "      <td>45.747589</td>\n",
       "    </tr>\n",
       "    <tr>\n",
       "      <th>1068500.0</th>\n",
       "      <td>1.0</td>\n",
       "      <td>0.0</td>\n",
       "      <td>NaN</td>\n",
       "      <td>5.825797</td>\n",
       "      <td>45.756580</td>\n",
       "    </tr>\n",
       "  </tbody>\n",
       "</table>\n",
       "</div>"
      ],
      "text/plain": [
       "                              swiss_lv95_coordinates  climatology_bounds  \\\n",
       "ncb time E         N                                                       \n",
       "1.0 0.0  2474500.0 1064500.0                     1.0                 0.0   \n",
       "                   1065500.0                     1.0                 0.0   \n",
       "                   1066500.0                     1.0                 0.0   \n",
       "                   1067500.0                     1.0                 0.0   \n",
       "                   1068500.0                     1.0                 0.0   \n",
       "\n",
       "                              RnormY6190       lon        lat  \n",
       "ncb time E         N                                           \n",
       "1.0 0.0  2474500.0 1064500.0         NaN  5.826852  45.720608  \n",
       "                   1065500.0         NaN  5.826589  45.729603  \n",
       "                   1066500.0         NaN  5.826325  45.738594  \n",
       "                   1067500.0         NaN  5.826061  45.747589  \n",
       "                   1068500.0         NaN  5.825797  45.756580  "
      ]
     },
     "execution_count": 20,
     "metadata": {},
     "output_type": "execute_result"
    }
   ],
   "source": [
    "df.head()"
   ]
  },
  {
   "cell_type": "code",
   "execution_count": 21,
   "metadata": {},
   "outputs": [],
   "source": [
    "gdf = gpd.GeoDataFrame(\n",
    "    df, geometry=gpd.points_from_xy(df.lon, df.lat))"
   ]
  },
  {
   "cell_type": "code",
   "execution_count": 22,
   "metadata": {},
   "outputs": [
    {
     "data": {
      "text/plain": [
       "<AxesSubplot:>"
      ]
     },
     "execution_count": 22,
     "metadata": {},
     "output_type": "execute_result"
    },
    {
     "data": {
      "image/png": "[encoded data removed]",
      "text/plain": [
       "<Figure size 432x288 with 1 Axes>"
      ]
     },
     "metadata": {
      "needs_background": "light"
     },
     "output_type": "display_data"
    }
   ],
   "source": [
    "gdf.plot(column =\"RnormY6190\")"
   ]
  },
  {
   "cell_type": "code",
   "execution_count": 23,
   "metadata": {},
   "outputs": [],
   "source": [
    "gdf.to_file(\"../data/geojson.json\", driver=\"GeoJSON\") # allow to get an geojson file, I use it on kepler to \"play\" around more easily"
   ]
  },
  {
   "cell_type": "markdown",
   "metadata": {},
   "source": [
    "# 4. PX Example"
   ]
  },
  {
   "cell_type": "code",
   "execution_count": 24,
   "metadata": {},
   "outputs": [],
   "source": [
    "from pyaxis import pyaxis\n",
    "\n",
    "#set file path (or URL)\n",
    "fp = r\"https://dam-api.bfs.admin.ch/hub/api/dam/assets/12947667/master\" \n",
    "#parse contents of *.px file\n",
    "px = pyaxis.parse(uri = fp , encoding = 'ISO-8859-2')\n",
    "\n",
    "#store data as pandas dataframe\n",
    "data_df = px['DATA']\n",
    "#store metadata as a dictionary (not necessary in this case, but might be helpful)\n",
    "meta_dict = px['METADATA']"
   ]
  },
  {
   "cell_type": "code",
   "execution_count": 25,
   "metadata": {},
   "outputs": [
    {
     "data": {
      "text/html": [
       "<div>\n",
       "<style scoped>\n",
       "    .dataframe tbody tr th:only-of-type {\n",
       "        vertical-align: middle;\n",
       "    }\n",
       "\n",
       "    .dataframe tbody tr th {\n",
       "        vertical-align: top;\n",
       "    }\n",
       "\n",
       "    .dataframe thead th {\n",
       "        text-align: right;\n",
       "    }\n",
       "</style>\n",
       "<table border=\"1\" class=\"dataframe\">\n",
       "  <thead>\n",
       "    <tr style=\"text-align: right;\">\n",
       "      <th></th>\n",
       "      <th>Szenario-Variante</th>\n",
       "      <th>Staatsangehörigkeit (Kategorie)</th>\n",
       "      <th>Geschlecht</th>\n",
       "      <th>Altersklasse</th>\n",
       "      <th>Jahr</th>\n",
       "      <th>Beobachtungseinheit</th>\n",
       "      <th>DATA</th>\n",
       "    </tr>\n",
       "  </thead>\n",
       "  <tbody>\n",
       "    <tr>\n",
       "      <th>0</th>\n",
       "      <td>Referenzszenario A-00-2020</td>\n",
       "      <td>Staatsangehörigkeit - Total</td>\n",
       "      <td>Geschlecht - Total</td>\n",
       "      <td>Altersklasse - Total</td>\n",
       "      <td>2019</td>\n",
       "      <td>Bevölkerungsstand am 1. Januar</td>\n",
       "      <td>8544527</td>\n",
       "    </tr>\n",
       "    <tr>\n",
       "      <th>1</th>\n",
       "      <td>Referenzszenario A-00-2020</td>\n",
       "      <td>Staatsangehörigkeit - Total</td>\n",
       "      <td>Geschlecht - Total</td>\n",
       "      <td>Altersklasse - Total</td>\n",
       "      <td>2019</td>\n",
       "      <td>Lebendgeburten</td>\n",
       "      <td>88682</td>\n",
       "    </tr>\n",
       "    <tr>\n",
       "      <th>2</th>\n",
       "      <td>Referenzszenario A-00-2020</td>\n",
       "      <td>Staatsangehörigkeit - Total</td>\n",
       "      <td>Geschlecht - Total</td>\n",
       "      <td>Altersklasse - Total</td>\n",
       "      <td>2019</td>\n",
       "      <td>Todesfälle</td>\n",
       "      <td>67363</td>\n",
       "    </tr>\n",
       "    <tr>\n",
       "      <th>3</th>\n",
       "      <td>Referenzszenario A-00-2020</td>\n",
       "      <td>Staatsangehörigkeit - Total</td>\n",
       "      <td>Geschlecht - Total</td>\n",
       "      <td>Altersklasse - Total</td>\n",
       "      <td>2019</td>\n",
       "      <td>Einwanderungen</td>\n",
       "      <td>175000</td>\n",
       "    </tr>\n",
       "    <tr>\n",
       "      <th>4</th>\n",
       "      <td>Referenzszenario A-00-2020</td>\n",
       "      <td>Staatsangehörigkeit - Total</td>\n",
       "      <td>Geschlecht - Total</td>\n",
       "      <td>Altersklasse - Total</td>\n",
       "      <td>2019</td>\n",
       "      <td>Auswanderungen</td>\n",
       "      <td>125000</td>\n",
       "    </tr>\n",
       "    <tr>\n",
       "      <th>...</th>\n",
       "      <td>...</td>\n",
       "      <td>...</td>\n",
       "      <td>...</td>\n",
       "      <td>...</td>\n",
       "      <td>...</td>\n",
       "      <td>...</td>\n",
       "      <td>...</td>\n",
       "    </tr>\n",
       "    <tr>\n",
       "      <th>1497595</th>\n",
       "      <td>Variante A-07-2020 'stabile Auswanderungsziffern'</td>\n",
       "      <td>Ausland Nicht-EWR</td>\n",
       "      <td>Frau</td>\n",
       "      <td>115-120 Jahre</td>\n",
       "      <td>2070</td>\n",
       "      <td>Einwanderungen</td>\n",
       "      <td>0</td>\n",
       "    </tr>\n",
       "    <tr>\n",
       "      <th>1497596</th>\n",
       "      <td>Variante A-07-2020 'stabile Auswanderungsziffern'</td>\n",
       "      <td>Ausland Nicht-EWR</td>\n",
       "      <td>Frau</td>\n",
       "      <td>115-120 Jahre</td>\n",
       "      <td>2070</td>\n",
       "      <td>Auswanderungen</td>\n",
       "      <td>0</td>\n",
       "    </tr>\n",
       "    <tr>\n",
       "      <th>1497597</th>\n",
       "      <td>Variante A-07-2020 'stabile Auswanderungsziffern'</td>\n",
       "      <td>Ausland Nicht-EWR</td>\n",
       "      <td>Frau</td>\n",
       "      <td>115-120 Jahre</td>\n",
       "      <td>2070</td>\n",
       "      <td>Erwerb des Schweizer Bürgerrechts</td>\n",
       "      <td>0</td>\n",
       "    </tr>\n",
       "    <tr>\n",
       "      <th>1497598</th>\n",
       "      <td>Variante A-07-2020 'stabile Auswanderungsziffern'</td>\n",
       "      <td>Ausland Nicht-EWR</td>\n",
       "      <td>Frau</td>\n",
       "      <td>115-120 Jahre</td>\n",
       "      <td>2070</td>\n",
       "      <td>Bevölkerungsstand am 31. Dezember</td>\n",
       "      <td>0</td>\n",
       "    </tr>\n",
       "    <tr>\n",
       "      <th>1497599</th>\n",
       "      <td>Variante A-07-2020 'stabile Auswanderungsziffern'</td>\n",
       "      <td>Ausland Nicht-EWR</td>\n",
       "      <td>Frau</td>\n",
       "      <td>115-120 Jahre</td>\n",
       "      <td>2070</td>\n",
       "      <td>Lebendgeburten nach Alter und Staatsangehörigk...</td>\n",
       "      <td>0</td>\n",
       "    </tr>\n",
       "  </tbody>\n",
       "</table>\n",
       "<p>1497600 rows × 7 columns</p>\n",
       "</div>"
      ],
      "text/plain": [
       "                                         Szenario-Variante  \\\n",
       "0                               Referenzszenario A-00-2020   \n",
       "1                               Referenzszenario A-00-2020   \n",
       "2                               Referenzszenario A-00-2020   \n",
       "3                               Referenzszenario A-00-2020   \n",
       "4                               Referenzszenario A-00-2020   \n",
       "...                                                    ...   \n",
       "1497595  Variante A-07-2020 'stabile Auswanderungsziffern'   \n",
       "1497596  Variante A-07-2020 'stabile Auswanderungsziffern'   \n",
       "1497597  Variante A-07-2020 'stabile Auswanderungsziffern'   \n",
       "1497598  Variante A-07-2020 'stabile Auswanderungsziffern'   \n",
       "1497599  Variante A-07-2020 'stabile Auswanderungsziffern'   \n",
       "\n",
       "        Staatsangehörigkeit (Kategorie)          Geschlecht  \\\n",
       "0           Staatsangehörigkeit - Total  Geschlecht - Total   \n",
       "1           Staatsangehörigkeit - Total  Geschlecht - Total   \n",
       "2           Staatsangehörigkeit - Total  Geschlecht - Total   \n",
       "3           Staatsangehörigkeit - Total  Geschlecht - Total   \n",
       "4           Staatsangehörigkeit - Total  Geschlecht - Total   \n",
       "...                                 ...                 ...   \n",
       "1497595               Ausland Nicht-EWR                Frau   \n",
       "1497596               Ausland Nicht-EWR                Frau   \n",
       "1497597               Ausland Nicht-EWR                Frau   \n",
       "1497598               Ausland Nicht-EWR                Frau   \n",
       "1497599               Ausland Nicht-EWR                Frau   \n",
       "\n",
       "                 Altersklasse  Jahr  \\\n",
       "0        Altersklasse - Total  2019   \n",
       "1        Altersklasse - Total  2019   \n",
       "2        Altersklasse - Total  2019   \n",
       "3        Altersklasse - Total  2019   \n",
       "4        Altersklasse - Total  2019   \n",
       "...                       ...   ...   \n",
       "1497595         115-120 Jahre  2070   \n",
       "1497596         115-120 Jahre  2070   \n",
       "1497597         115-120 Jahre  2070   \n",
       "1497598         115-120 Jahre  2070   \n",
       "1497599         115-120 Jahre  2070   \n",
       "\n",
       "                                       Beobachtungseinheit     DATA  \n",
       "0                           Bevölkerungsstand am 1. Januar  8544527  \n",
       "1                                           Lebendgeburten    88682  \n",
       "2                                               Todesfälle    67363  \n",
       "3                                           Einwanderungen   175000  \n",
       "4                                           Auswanderungen   125000  \n",
       "...                                                    ...      ...  \n",
       "1497595                                     Einwanderungen        0  \n",
       "1497596                                     Auswanderungen        0  \n",
       "1497597                  Erwerb des Schweizer Bürgerrechts        0  \n",
       "1497598                  Bevölkerungsstand am 31. Dezember        0  \n",
       "1497599  Lebendgeburten nach Alter und Staatsangehörigk...        0  \n",
       "\n",
       "[1497600 rows x 7 columns]"
      ]
     },
     "execution_count": 25,
     "metadata": {},
     "output_type": "execute_result"
    }
   ],
   "source": [
    "data_df"
   ]
  },
  {
   "cell_type": "markdown",
   "metadata": {},
   "source": [
    "# 5 WFS Example"
   ]
  },
  {
   "cell_type": "code",
   "execution_count": 26,
   "metadata": {},
   "outputs": [],
   "source": [
    "from owslib.wfs import WebFeatureService\n",
    "from requests import Request\n",
    "url = \"https://map.geo.sz.ch/mapserv_proxy\" # WFS URL as Example\n",
    "wfs = WebFeatureService(url=url, version = \"1.1.0\") # Depending on the provider, you can use version 2.0.0\n",
    "layer_list = list(wfs.contents) # Gives you a list of layers available for this URL\n",
    "layer = \"ms:ch.sz.a012.naturgefahrenkarte.synoptisch.aggregiert.gstufe_erheblich_mittel\" # Layer to adapt"
   ]
  },
  {
   "cell_type": "code",
   "execution_count": 27,
   "metadata": {},
   "outputs": [],
   "source": [
    "response = wfs.getfeature(typename=layer, maxfeatures=10) #Max Features set to 100 for example, you can remove it\n",
    "data = response.read()"
   ]
  },
  {
   "cell_type": "code",
   "execution_count": 28,
   "metadata": {},
   "outputs": [],
   "source": [
    "with tempfile.NamedTemporaryFile() as temp:\n",
    "    temp.write(data)\n",
    "    gdf = gpd.read_file(temp.name)"
   ]
  },
  {
   "cell_type": "code",
   "execution_count": 29,
   "metadata": {},
   "outputs": [
    {
     "data": {
      "text/html": [
       "<div>\n",
       "<style scoped>\n",
       "    .dataframe tbody tr th:only-of-type {\n",
       "        vertical-align: middle;\n",
       "    }\n",
       "\n",
       "    .dataframe tbody tr th {\n",
       "        vertical-align: top;\n",
       "    }\n",
       "\n",
       "    .dataframe thead th {\n",
       "        text-align: right;\n",
       "    }\n",
       "</style>\n",
       "<table border=\"1\" class=\"dataframe\">\n",
       "  <thead>\n",
       "    <tr style=\"text-align: right;\">\n",
       "      <th></th>\n",
       "      <th>gml_id</th>\n",
       "      <th>label_hochwasser</th>\n",
       "      <th>label_rutschung</th>\n",
       "      <th>label_sturz</th>\n",
       "      <th>label_lawine</th>\n",
       "      <th>label_gleitschnee</th>\n",
       "      <th>label_doline</th>\n",
       "      <th>pzg_cd</th>\n",
       "      <th>geometry</th>\n",
       "    </tr>\n",
       "  </thead>\n",
       "  <tbody>\n",
       "    <tr>\n",
       "      <th>0</th>\n",
       "      <td>ch.sz.a012.naturgefahrenkarte.synoptisch.aggre...</td>\n",
       "      <td>keine Gefährdung</td>\n",
       "      <td>Gefahrenhinweis</td>\n",
       "      <td>keine Gefährdung</td>\n",
       "      <td>keine Gefährdung</td>\n",
       "      <td>keine Gefährdung</td>\n",
       "      <td>keine Gefährdung</td>\n",
       "      <td>50</td>\n",
       "      <td>POLYGON ((2705390.210 1212769.050, 2705390.250...</td>\n",
       "    </tr>\n",
       "    <tr>\n",
       "      <th>1</th>\n",
       "      <td>ch.sz.a012.naturgefahrenkarte.synoptisch.aggre...</td>\n",
       "      <td>Gefahrenhinweis</td>\n",
       "      <td>Gefahrenhinweis</td>\n",
       "      <td>keine Gefährdung</td>\n",
       "      <td>keine Gefährdung</td>\n",
       "      <td>keine Gefährdung</td>\n",
       "      <td>keine Gefährdung</td>\n",
       "      <td>550</td>\n",
       "      <td>POLYGON ((2700145.828 1210144.033, 2700146.953...</td>\n",
       "    </tr>\n",
       "    <tr>\n",
       "      <th>2</th>\n",
       "      <td>ch.sz.a012.naturgefahrenkarte.synoptisch.aggre...</td>\n",
       "      <td>keine Gefährdung</td>\n",
       "      <td>Gefahrenhinweis</td>\n",
       "      <td>Gefahrenhinweis</td>\n",
       "      <td>keine Gefährdung</td>\n",
       "      <td>keine Gefährdung</td>\n",
       "      <td>keine Gefährdung</td>\n",
       "      <td>5050</td>\n",
       "      <td>POLYGON ((2705177.353 1212297.518, 2705175.310...</td>\n",
       "    </tr>\n",
       "    <tr>\n",
       "      <th>3</th>\n",
       "      <td>ch.sz.a012.naturgefahrenkarte.synoptisch.aggre...</td>\n",
       "      <td>Gefahrenhinweis</td>\n",
       "      <td>Gefahrenhinweis</td>\n",
       "      <td>keine Gefährdung</td>\n",
       "      <td>keine Gefährdung</td>\n",
       "      <td>Gefahrenhinweis</td>\n",
       "      <td>keine Gefährdung</td>\n",
       "      <td>50550</td>\n",
       "      <td>POLYGON ((2701633.270 1208592.200, 2701634.770...</td>\n",
       "    </tr>\n",
       "    <tr>\n",
       "      <th>4</th>\n",
       "      <td>ch.sz.a012.naturgefahrenkarte.synoptisch.aggre...</td>\n",
       "      <td>keine Gefährdung</td>\n",
       "      <td>keine Gefährdung</td>\n",
       "      <td>Gefahrenhinweis</td>\n",
       "      <td>Gefahrenhinweis</td>\n",
       "      <td>Gefahrenhinweis</td>\n",
       "      <td>keine Gefährdung</td>\n",
       "      <td>555000</td>\n",
       "      <td>POLYGON ((2705049.635 1207076.152, 2705045.958...</td>\n",
       "    </tr>\n",
       "  </tbody>\n",
       "</table>\n",
       "</div>"
      ],
      "text/plain": [
       "                                              gml_id  label_hochwasser  \\\n",
       "0  ch.sz.a012.naturgefahrenkarte.synoptisch.aggre...  keine Gefährdung   \n",
       "1  ch.sz.a012.naturgefahrenkarte.synoptisch.aggre...   Gefahrenhinweis   \n",
       "2  ch.sz.a012.naturgefahrenkarte.synoptisch.aggre...  keine Gefährdung   \n",
       "3  ch.sz.a012.naturgefahrenkarte.synoptisch.aggre...   Gefahrenhinweis   \n",
       "4  ch.sz.a012.naturgefahrenkarte.synoptisch.aggre...  keine Gefährdung   \n",
       "\n",
       "    label_rutschung       label_sturz      label_lawine label_gleitschnee  \\\n",
       "0   Gefahrenhinweis  keine Gefährdung  keine Gefährdung  keine Gefährdung   \n",
       "1   Gefahrenhinweis  keine Gefährdung  keine Gefährdung  keine Gefährdung   \n",
       "2   Gefahrenhinweis   Gefahrenhinweis  keine Gefährdung  keine Gefährdung   \n",
       "3   Gefahrenhinweis  keine Gefährdung  keine Gefährdung   Gefahrenhinweis   \n",
       "4  keine Gefährdung   Gefahrenhinweis   Gefahrenhinweis   Gefahrenhinweis   \n",
       "\n",
       "       label_doline  pzg_cd                                           geometry  \n",
       "0  keine Gefährdung      50  POLYGON ((2705390.210 1212769.050, 2705390.250...  \n",
       "1  keine Gefährdung     550  POLYGON ((2700145.828 1210144.033, 2700146.953...  \n",
       "2  keine Gefährdung    5050  POLYGON ((2705177.353 1212297.518, 2705175.310...  \n",
       "3  keine Gefährdung   50550  POLYGON ((2701633.270 1208592.200, 2701634.770...  \n",
       "4  keine Gefährdung  555000  POLYGON ((2705049.635 1207076.152, 2705045.958...  "
      ]
     },
     "execution_count": 29,
     "metadata": {},
     "output_type": "execute_result"
    }
   ],
   "source": [
    "gdf.head()"
   ]
  },
  {
   "cell_type": "markdown",
   "metadata": {},
   "source": [
    "# 6 API ARCGIS Example"
   ]
  },
  {
   "cell_type": "code",
   "execution_count": 30,
   "metadata": {},
   "outputs": [],
   "source": [
    "url = \"https://api.geo.admin.ch/rest/services/api/MapServer/identify\"\n",
    "\n",
    "envelope = \"548945.5,147956,549402,148103.5\" # Swiss coordinates 21781\n",
    "layers = \"all:ch.are.belastung-personenverkehr-bahn_zukunft\" # Layer selected\n",
    "todo = {\"layers\":layers,\n",
    "        \"geometryType\":\"esriGeometryEnvelope\", \n",
    "        \"geometry\":envelope,\n",
    "        \"geometryFormat\":\"geojson\", \n",
    "        \"tolerance\":\"1\", \n",
    "        \"imageDisplay\":\"500,600,96\", \n",
    "        \"mapExtent\":envelope}\n",
    "response = requests.get(url, params = todo)"
   ]
  },
  {
   "cell_type": "code",
   "execution_count": 31,
   "id": "55260649",
   "metadata": {},
   "outputs": [],
   "source": [
    "import json"
   ]
  },
  {
   "cell_type": "code",
   "execution_count": 32,
   "metadata": {},
   "outputs": [],
   "source": [
    "json_file = json.loads(response.content)\n",
    "df = pd.read_json(json.dumps(json_file[\"results\"]))"
   ]
  },
  {
   "cell_type": "code",
   "execution_count": 33,
   "metadata": {},
   "outputs": [
    {
     "name": "stderr",
     "output_type": "stream",
     "text": [
      "/usr/lib/python3/dist-packages/pandas/core/dtypes/cast.py:121: ShapelyDeprecationWarning: The array interface is deprecated and will no longer work in Shapely 2.0. Convert the '.coords' to a numpy array instead.\n",
      "  arr = construct_1d_object_array_from_listlike(values)\n"
     ]
    },
    {
     "data": {
      "text/plain": [
       "<AxesSubplot:>"
      ]
     },
     "execution_count": 33,
     "metadata": {},
     "output_type": "execute_result"
    },
    {
     "data": {
      "image/png": "[encoded data removed]",
      "text/plain": [
       "<Figure size 432x288 with 1 Axes>"
      ]
     },
     "metadata": {
      "needs_background": "light"
     },
     "output_type": "display_data"
    }
   ],
   "source": [
    "# Transform column geom into a geoshape\n",
    "from shapely.geometry import shape\n",
    "def transform_to_shape(origin):\n",
    "    temp = [origin]\n",
    "    geom = [shape(i) for i in temp]\n",
    "    return geom[0]\n",
    "df['geom'] = df.apply(lambda row : transform_to_shape(row['geometry']), axis = 1)\n",
    "gdf = gpd.GeoDataFrame(df, geometry=df[\"geom\"])\n",
    "gdf = gdf.set_crs(\"21781\").to_crs(\"4326\")\n",
    "gdf[\"geometry\"].plot()"
   ]
  },
  {
   "cell_type": "code",
   "execution_count": 34,
   "metadata": {},
   "outputs": [],
   "source": [
    "df1 = pd.DataFrame(df['properties'].values.tolist())\n",
    "final_df = df[[\"id\", \"layerName\", \"geometry\"]].join(df1)"
   ]
  },
  {
   "cell_type": "code",
   "execution_count": 35,
   "metadata": {},
   "outputs": [
    {
     "data": {
      "text/html": [
       "<div>\n",
       "<style scoped>\n",
       "    .dataframe tbody tr th:only-of-type {\n",
       "        vertical-align: middle;\n",
       "    }\n",
       "\n",
       "    .dataframe tbody tr th {\n",
       "        vertical-align: top;\n",
       "    }\n",
       "\n",
       "    .dataframe thead th {\n",
       "        text-align: right;\n",
       "    }\n",
       "</style>\n",
       "<table border=\"1\" class=\"dataframe\">\n",
       "  <thead>\n",
       "    <tr style=\"text-align: right;\">\n",
       "      <th></th>\n",
       "      <th>id</th>\n",
       "      <th>layerName</th>\n",
       "      <th>geometry</th>\n",
       "      <th>nr</th>\n",
       "      <th>dwv_oev</th>\n",
       "      <th>dtv_oev</th>\n",
       "      <th>msp_oev</th>\n",
       "      <th>asp_oev</th>\n",
       "      <th>label</th>\n",
       "    </tr>\n",
       "  </thead>\n",
       "  <tbody>\n",
       "    <tr>\n",
       "      <th>0</th>\n",
       "      <td>7646</td>\n",
       "      <td>Personenverkehr Schiene 2050</td>\n",
       "      <td>LINESTRING (548128.800 148744.100, 548130.800 ...</td>\n",
       "      <td>980000896</td>\n",
       "      <td>1794</td>\n",
       "      <td>1594</td>\n",
       "      <td>155</td>\n",
       "      <td>177</td>\n",
       "      <td>980000896</td>\n",
       "    </tr>\n",
       "    <tr>\n",
       "      <th>1</th>\n",
       "      <td>7647</td>\n",
       "      <td>Personenverkehr Schiene 2050</td>\n",
       "      <td>LINESTRING (549310.000 147962.100, 549316.200 ...</td>\n",
       "      <td>980000896</td>\n",
       "      <td>2157</td>\n",
       "      <td>1951</td>\n",
       "      <td>170</td>\n",
       "      <td>220</td>\n",
       "      <td>980000896</td>\n",
       "    </tr>\n",
       "  </tbody>\n",
       "</table>\n",
       "</div>"
      ],
      "text/plain": [
       "     id                     layerName  \\\n",
       "0  7646  Personenverkehr Schiene 2050   \n",
       "1  7647  Personenverkehr Schiene 2050   \n",
       "\n",
       "                                            geometry         nr  dwv_oev  \\\n",
       "0  LINESTRING (548128.800 148744.100, 548130.800 ...  980000896     1794   \n",
       "1  LINESTRING (549310.000 147962.100, 549316.200 ...  980000896     2157   \n",
       "\n",
       "   dtv_oev  msp_oev  asp_oev      label  \n",
       "0     1594      155      177  980000896  \n",
       "1     1951      170      220  980000896  "
      ]
     },
     "execution_count": 35,
     "metadata": {},
     "output_type": "execute_result"
    }
   ],
   "source": [
    "final_df"
   ]
  }
 ],
 "metadata": {
  "kernelspec": {
   "display_name": "Python 3.10.4 64-bit",
   "language": "python",
   "name": "python3"
  },
  "language_info": {
   "codemirror_mode": {
    "name": "ipython",
    "version": 3
   },
   "file_extension": ".py",
   "mimetype": "text/x-python",
   "name": "python",
   "nbconvert_exporter": "python",
   "pygments_lexer": "ipython3",
   "version": "3.10.4"
  },
  "vscode": {
   "interpreter": {
    "hash": "e7370f93d1d0cde622a1f8e1c04877d8463912d04d973331ad4851f04de6915a"
   }
  }
 },
 "nbformat": 4,
 "nbformat_minor": 5
}
